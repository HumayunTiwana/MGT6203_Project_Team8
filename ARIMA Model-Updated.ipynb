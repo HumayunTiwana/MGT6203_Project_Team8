{
 "cells": [
  {
   "cell_type": "code",
   "execution_count": 20,
   "id": "ad422180",
   "metadata": {},
   "outputs": [
    {
     "name": "stderr",
     "output_type": "stream",
     "text": [
      "also installing the dependency 'rlang'\n",
      "\n"
     ]
    },
    {
     "name": "stdout",
     "output_type": "stream",
     "text": [
      "\n",
      "  There are binary versions available but the source versions are later:\n",
      "      binary source needs_compilation\n",
      "rlang 0.4.11  1.0.2              TRUE\n",
      "dplyr  1.0.6  1.0.8              TRUE\n",
      "\n",
      "  Binaries will be installed\n"
     ]
    },
    {
     "name": "stderr",
     "output_type": "stream",
     "text": [
      "Warning message:\n",
      "\"package 'dplyr' is in use and will not be installed\""
     ]
    },
    {
     "name": "stdout",
     "output_type": "stream",
     "text": [
      "package 'rlang' successfully unpacked and MD5 sums checked\n"
     ]
    },
    {
     "name": "stderr",
     "output_type": "stream",
     "text": [
      "Warning message:\n",
      "\"cannot remove prior installation of package 'rlang'\"Warning message in file.copy(savedcopy, lib, recursive = TRUE):\n",
      "\"problem copying C:\\Users\\humay\\anaconda3\\Lib\\R\\library\\00LOCK\\rlang\\libs\\x64\\rlang.dll to C:\\Users\\humay\\anaconda3\\Lib\\R\\library\\rlang\\libs\\x64\\rlang.dll: Permission denied\"Warning message:\n",
      "\"restored 'rlang'\""
     ]
    },
    {
     "name": "stdout",
     "output_type": "stream",
     "text": [
      "\n",
      "The downloaded binary packages are in\n",
      "\tC:\\Users\\humay\\AppData\\Local\\Temp\\RtmpQfc3dF\\downloaded_packages\n"
     ]
    },
    {
     "name": "stderr",
     "output_type": "stream",
     "text": [
      "Warning message:\n",
      "\"package 'quantmod' is in use and will not be installed\""
     ]
    },
    {
     "name": "stdout",
     "output_type": "stream",
     "text": [
      "\n",
      "  There is a binary version available but the source version is later:\n",
      "        binary source needs_compilation\n",
      "ggplot2  3.3.3  3.3.5             FALSE\n",
      "\n"
     ]
    },
    {
     "name": "stderr",
     "output_type": "stream",
     "text": [
      "installing the source package 'ggplot2'\n",
      "\n",
      "Warning message:\n",
      "\"package 'reshape2' is in use and will not be installed\"also installing the dependencies 'future.apply', 'progressr', 'numDeriv', 'SQUAREM', 'KernSmooth', 'lava', 'sys', 'bit', 'prettyunits', 'rpart', 'survival', 'class', 'prodlim', 'globals', 'yaml', 'later', 'listenv', 'parallelly', 'askpass', 'glue', 'bit64', 'progress', 'gower', 'hardhat', 'ipred', 'furrr', 'htmlwidgets', 'crosstalk', 'data.table', 'promises', 'warp', 'BH', 'fracdiff', 'lmtest', 'nnet', 'tseries', 'urca', 'RcppArmadillo', 'RcppRoll', 'future', 'cpp11', 'quadprog', 'mime', 'openssl', 'cli', 'clipr', 'hms', 'vroom', 'tzdb', 'recipes', 'rsample', 'forcats', 'plotly', 'padr', 'slider', 'anytime', 'forecast', 'tsfeatures', 'assertthat', 'snakecase', 'lubridate', 'PerformanceAnalytics', 'httr', 'lazyeval', 'Quandl', 'riingo', 'readr', 'alphavantager', 'tidyr', 'timetk', 'timeDate', 'rstudioapi', 'janitor'\n",
      "\n"
     ]
    },
    {
     "name": "stdout",
     "output_type": "stream",
     "text": [
      "\n",
      "  There are binary versions available but the source versions are later:\n",
      "                  binary     source needs_compilation\n",
      "future.apply       1.7.0      1.8.1             FALSE\n",
      "progressr          0.7.0     0.10.0             FALSE\n",
      "lava               1.6.9     1.6.10             FALSE\n",
      "rpart             4.1-15     4.1.16              TRUE\n",
      "survival          3.2-11      3.3-1              TRUE\n",
      "class             7.3-19     7.3-20              TRUE\n",
      "yaml               2.2.1      2.3.5              TRUE\n",
      "later              1.2.0      1.3.0              TRUE\n",
      "parallelly        1.25.0     1.30.0             FALSE\n",
      "glue               1.4.2      1.6.2              TRUE\n",
      "gower              0.2.2      1.0.0              TRUE\n",
      "hardhat            0.1.5      0.2.0             FALSE\n",
      "ipred             0.9-11     0.9-12              TRUE\n",
      "furrr              0.2.2      0.2.3             FALSE\n",
      "htmlwidgets        1.5.3      1.5.4             FALSE\n",
      "crosstalk          1.1.1      1.2.0             FALSE\n",
      "data.table        1.14.0     1.14.2              TRUE\n",
      "BH              1.75.0-0   1.78.0-0             FALSE\n",
      "lmtest            0.9-38     0.9-40              TRUE\n",
      "nnet              7.3-16     7.3-17              TRUE\n",
      "tseries          0.10-48    0.10-50              TRUE\n",
      "RcppArmadillo 0.10.4.0.0 0.11.0.0.0              TRUE\n",
      "future            1.21.0     1.24.0             FALSE\n",
      "cpp11              0.2.7      0.4.2             FALSE\n",
      "mime                0.10       0.12              TRUE\n",
      "openssl            1.4.4      2.0.0              TRUE\n",
      "cli                2.5.0      3.2.0              TRUE\n",
      "clipr              0.7.1      0.8.0             FALSE\n",
      "hms                1.0.0      1.1.1             FALSE\n",
      "vroom              1.4.0      1.5.7              TRUE\n",
      "tzdb               0.1.1      0.3.0              TRUE\n",
      "recipes           0.1.16      0.2.0             FALSE\n",
      "rsample            0.1.0      0.1.1             FALSE\n",
      "plotly             4.9.3     4.10.0             FALSE\n",
      "padr               0.5.3      0.6.0              TRUE\n",
      "slider             0.2.1      0.2.2              TRUE\n",
      "forecast            8.14       8.16              TRUE\n",
      "lubridate         1.7.10      1.8.0              TRUE\n",
      "Quandl            2.10.0     2.11.0             FALSE\n",
      "readr              1.4.0      2.1.2              TRUE\n",
      "tidyr              1.1.3      1.2.0              TRUE\n",
      "timetk             2.6.1      2.7.0             FALSE\n",
      "\n",
      "  Binaries will be installed\n",
      "package 'numDeriv' successfully unpacked and MD5 sums checked\n",
      "package 'SQUAREM' successfully unpacked and MD5 sums checked\n",
      "package 'KernSmooth' successfully unpacked and MD5 sums checked\n",
      "package 'sys' successfully unpacked and MD5 sums checked\n",
      "package 'bit' successfully unpacked and MD5 sums checked\n",
      "package 'prettyunits' successfully unpacked and MD5 sums checked\n",
      "package 'rpart' successfully unpacked and MD5 sums checked\n",
      "package 'survival' successfully unpacked and MD5 sums checked\n",
      "package 'class' successfully unpacked and MD5 sums checked\n",
      "package 'prodlim' successfully unpacked and MD5 sums checked\n",
      "package 'globals' successfully unpacked and MD5 sums checked\n",
      "package 'yaml' successfully unpacked and MD5 sums checked\n",
      "package 'later' successfully unpacked and MD5 sums checked\n",
      "package 'listenv' successfully unpacked and MD5 sums checked\n",
      "package 'askpass' successfully unpacked and MD5 sums checked\n",
      "package 'glue' successfully unpacked and MD5 sums checked\n"
     ]
    },
    {
     "name": "stderr",
     "output_type": "stream",
     "text": [
      "Warning message:\n",
      "\"cannot remove prior installation of package 'glue'\"Warning message in file.copy(savedcopy, lib, recursive = TRUE):\n",
      "\"problem copying C:\\Users\\humay\\anaconda3\\Lib\\R\\library\\00LOCK\\glue\\libs\\x64\\glue.dll to C:\\Users\\humay\\anaconda3\\Lib\\R\\library\\glue\\libs\\x64\\glue.dll: Permission denied\"Warning message:\n",
      "\"restored 'glue'\""
     ]
    },
    {
     "name": "stdout",
     "output_type": "stream",
     "text": [
      "package 'bit64' successfully unpacked and MD5 sums checked\n",
      "package 'progress' successfully unpacked and MD5 sums checked\n",
      "package 'gower' successfully unpacked and MD5 sums checked\n",
      "package 'ipred' successfully unpacked and MD5 sums checked\n",
      "package 'data.table' successfully unpacked and MD5 sums checked\n",
      "package 'promises' successfully unpacked and MD5 sums checked\n",
      "package 'warp' successfully unpacked and MD5 sums checked\n",
      "package 'fracdiff' successfully unpacked and MD5 sums checked\n",
      "package 'lmtest' successfully unpacked and MD5 sums checked\n",
      "package 'nnet' successfully unpacked and MD5 sums checked\n",
      "package 'tseries' successfully unpacked and MD5 sums checked\n",
      "package 'urca' successfully unpacked and MD5 sums checked\n",
      "package 'RcppArmadillo' successfully unpacked and MD5 sums checked\n",
      "package 'RcppRoll' successfully unpacked and MD5 sums checked\n",
      "package 'quadprog' successfully unpacked and MD5 sums checked\n",
      "package 'mime' successfully unpacked and MD5 sums checked\n",
      "package 'openssl' successfully unpacked and MD5 sums checked\n",
      "package 'cli' successfully unpacked and MD5 sums checked\n",
      "package 'vroom' successfully unpacked and MD5 sums checked\n",
      "package 'tzdb' successfully unpacked and MD5 sums checked\n",
      "package 'forcats' successfully unpacked and MD5 sums checked\n",
      "package 'padr' successfully unpacked and MD5 sums checked\n",
      "package 'slider' successfully unpacked and MD5 sums checked\n",
      "package 'anytime' successfully unpacked and MD5 sums checked\n",
      "package 'forecast' successfully unpacked and MD5 sums checked\n",
      "package 'tsfeatures' successfully unpacked and MD5 sums checked\n",
      "package 'assertthat' successfully unpacked and MD5 sums checked\n",
      "package 'snakecase' successfully unpacked and MD5 sums checked\n",
      "package 'lubridate' successfully unpacked and MD5 sums checked\n",
      "package 'PerformanceAnalytics' successfully unpacked and MD5 sums checked\n",
      "package 'httr' successfully unpacked and MD5 sums checked\n",
      "package 'lazyeval' successfully unpacked and MD5 sums checked\n",
      "package 'riingo' successfully unpacked and MD5 sums checked\n",
      "package 'readr' successfully unpacked and MD5 sums checked\n",
      "package 'alphavantager' successfully unpacked and MD5 sums checked\n",
      "package 'tidyr' successfully unpacked and MD5 sums checked\n",
      "package 'timeDate' successfully unpacked and MD5 sums checked\n",
      "package 'rstudioapi' successfully unpacked and MD5 sums checked\n",
      "package 'janitor' successfully unpacked and MD5 sums checked\n",
      "package 'tidyquant' successfully unpacked and MD5 sums checked\n",
      "\n",
      "The downloaded binary packages are in\n",
      "\tC:\\Users\\humay\\AppData\\Local\\Temp\\RtmpQfc3dF\\downloaded_packages\n"
     ]
    },
    {
     "name": "stderr",
     "output_type": "stream",
     "text": [
      "installing the source packages 'future.apply', 'progressr', 'lava', 'parallelly', 'hardhat', 'furrr', 'htmlwidgets', 'crosstalk', 'BH', 'future', 'cpp11', 'clipr', 'hms', 'recipes', 'rsample', 'plotly', 'Quandl', 'timetk'\n",
      "\n",
      "Warning message in install.packages(\"tidyquant\"):\n",
      "\"installation of package 'recipes' had non-zero exit status\"Warning message in install.packages(\"tidyquant\"):\n",
      "\"installation of package 'timetk' had non-zero exit status\""
     ]
    },
    {
     "name": "stdout",
     "output_type": "stream",
     "text": [
      "\n",
      "  There is a binary version available but the source version is later:\n",
      "         binary  source needs_compilation\n",
      "tseries 0.10-48 0.10-50              TRUE\n",
      "\n",
      "  Binaries will be installed\n",
      "package 'tseries' successfully unpacked and MD5 sums checked\n",
      "\n",
      "The downloaded binary packages are in\n",
      "\tC:\\Users\\humay\\AppData\\Local\\Temp\\RtmpQfc3dF\\downloaded_packages\n"
     ]
    }
   ],
   "source": [
    "install.packages('dplyr')\n",
    "install.packages('quantmod')\n",
    "install.packages('ggplot2')\n",
    "install.packages('reshape2')\n",
    "install.packages('tidyquant')\n",
    "install.packages('tseries')\n"
   ]
  },
  {
   "cell_type": "code",
   "execution_count": 21,
   "id": "eddd827f",
   "metadata": {},
   "outputs": [
    {
     "name": "stderr",
     "output_type": "stream",
     "text": [
      "Warning message:\n",
      "\"package 'tidyquant' was built under R version 3.6.3\"Loading required package: lubridate\n",
      "Warning message:\n",
      "\"package 'lubridate' was built under R version 3.6.3\"\n",
      "Attaching package: 'lubridate'\n",
      "\n",
      "The following objects are masked from 'package:base':\n",
      "\n",
      "    date, intersect, setdiff, union\n",
      "\n",
      "Loading required package: PerformanceAnalytics\n",
      "Warning message:\n",
      "\"package 'PerformanceAnalytics' was built under R version 3.6.3\"\n",
      "Attaching package: 'PerformanceAnalytics'\n",
      "\n",
      "The following object is masked from 'package:graphics':\n",
      "\n",
      "    legend\n",
      "\n",
      "== Need to Learn tidyquant? ====================================================\n",
      "Business Science offers a 1-hour course - Learning Lab #9: Performance Analysis & Portfolio Optimization with tidyquant!\n",
      "</> Learn more at: https://university.business-science.io/p/learning-labs-pro </>\n"
     ]
    }
   ],
   "source": [
    "library(dplyr)\n",
    "library(ggplot2)\n",
    "library(quantmod)\n",
    "library(reshape2)\n",
    "library(tidyquant)"
   ]
  },
  {
   "cell_type": "code",
   "execution_count": 22,
   "id": "53fc2ac2",
   "metadata": {},
   "outputs": [
    {
     "data": {
      "text/html": [
       "<table>\n",
       "<thead><tr><th scope=col>Month.of.Date</th><th scope=col>Date</th><th scope=col>ASX200</th><th scope=col>X10.AED</th><th scope=col>X10.CNY</th><th scope=col>X10.000.IDR</th><th scope=col>X100.INR</th><th scope=col>X100.JPY</th><th scope=col>X1000.KRW</th><th scope=col>AU.10yr</th><th scope=col>...</th><th scope=col>Shanghai</th><th scope=col>Singapore.1yr</th><th scope=col>Singapore.30yr</th><th scope=col>Swiss.1yr</th><th scope=col>Swiss.30yr</th><th scope=col>UK.1yr</th><th scope=col>UK.30yr</th><th scope=col>US.1yr</th><th scope=col>US.30yr</th><th scope=col>USD</th></tr></thead>\n",
       "<tbody>\n",
       "\t<tr><td>July 2010 </td><td>2010-07-01</td><td>4238      </td><td>0.30724   </td><td>0.56739   </td><td>0.7609    </td><td>0.3904    </td><td>0.7390    </td><td>1.02580   </td><td>5.10      </td><td>...       </td><td>2374      </td><td>0.35      </td><td>2.98      </td><td>0.49      </td><td>1.81      </td><td>0.71      </td><td>4.12      </td><td>0.31      </td><td>3.90      </td><td>0.8366    </td></tr>\n",
       "\t<tr><td>July 2010 </td><td>2010-07-02</td><td>4239      </td><td>0.31025   </td><td>0.57224   </td><td>0.7650    </td><td>0.3943    </td><td>0.7433    </td><td>1.03387   </td><td>5.12      </td><td>...       </td><td>2383      </td><td>0.35      </td><td>2.97      </td><td>0.47      </td><td>1.81      </td><td>0.72      </td><td>4.12      </td><td>0.31      </td><td>3.95      </td><td>0.8448    </td></tr>\n",
       "\t<tr><td>July 2010 </td><td>2010-07-03</td><td>4239      </td><td>0.31025   </td><td>0.57224   </td><td>0.7650    </td><td>0.3943    </td><td>0.7433    </td><td>1.03387   </td><td>5.12      </td><td>...       </td><td>2383      </td><td>0.35      </td><td>2.97      </td><td>0.47      </td><td>1.81      </td><td>0.72      </td><td>4.12      </td><td>0.31      </td><td>3.95      </td><td>0.8448    </td></tr>\n",
       "\t<tr><td>July 2010 </td><td>2010-07-04</td><td>4239      </td><td>0.31025   </td><td>0.57224   </td><td>0.7650    </td><td>0.3943    </td><td>0.7433    </td><td>1.03387   </td><td>5.12      </td><td>...       </td><td>2383      </td><td>0.35      </td><td>2.97      </td><td>0.47      </td><td>1.81      </td><td>0.72      </td><td>4.12      </td><td>0.31      </td><td>3.95      </td><td>0.8448    </td></tr>\n",
       "\t<tr><td>July 2010 </td><td>2010-07-05</td><td>4222      </td><td>0.31018   </td><td>0.57217   </td><td>0.7655    </td><td>0.3944    </td><td>0.7429    </td><td>1.03235   </td><td>5.07      </td><td>...       </td><td>2364      </td><td>0.35      </td><td>2.99      </td><td>0.57      </td><td>1.80      </td><td>0.69      </td><td>4.09      </td><td>0.31      </td><td>3.95      </td><td>0.8446    </td></tr>\n",
       "\t<tr><td>July 2010 </td><td>2010-07-06</td><td>4276      </td><td>0.30919   </td><td>0.57050   </td><td>0.7636    </td><td>0.3941    </td><td>0.7389    </td><td>1.02956   </td><td>5.05      </td><td>...       </td><td>2409      </td><td>0.36      </td><td>2.99      </td><td>0.54      </td><td>1.80      </td><td>0.68      </td><td>4.13      </td><td>0.31      </td><td>3.89      </td><td>0.8419    </td></tr>\n",
       "</tbody>\n",
       "</table>\n"
      ],
      "text/latex": [
       "\\begin{tabular}{r|llllllllllllllllllllllllllllllllllllllllllll}\n",
       " Month.of.Date & Date & ASX200 & X10.AED & X10.CNY & X10.000.IDR & X100.INR & X100.JPY & X1000.KRW & AU.10yr & ... & Shanghai & Singapore.1yr & Singapore.30yr & Swiss.1yr & Swiss.30yr & UK.1yr & UK.30yr & US.1yr & US.30yr & USD\\\\\n",
       "\\hline\n",
       "\t July 2010  & 2010-07-01 & 4238       & 0.30724    & 0.56739    & 0.7609     & 0.3904     & 0.7390     & 1.02580    & 5.10       & ...        & 2374       & 0.35       & 2.98       & 0.49       & 1.81       & 0.71       & 4.12       & 0.31       & 3.90       & 0.8366    \\\\\n",
       "\t July 2010  & 2010-07-02 & 4239       & 0.31025    & 0.57224    & 0.7650     & 0.3943     & 0.7433     & 1.03387    & 5.12       & ...        & 2383       & 0.35       & 2.97       & 0.47       & 1.81       & 0.72       & 4.12       & 0.31       & 3.95       & 0.8448    \\\\\n",
       "\t July 2010  & 2010-07-03 & 4239       & 0.31025    & 0.57224    & 0.7650     & 0.3943     & 0.7433     & 1.03387    & 5.12       & ...        & 2383       & 0.35       & 2.97       & 0.47       & 1.81       & 0.72       & 4.12       & 0.31       & 3.95       & 0.8448    \\\\\n",
       "\t July 2010  & 2010-07-04 & 4239       & 0.31025    & 0.57224    & 0.7650     & 0.3943     & 0.7433     & 1.03387    & 5.12       & ...        & 2383       & 0.35       & 2.97       & 0.47       & 1.81       & 0.72       & 4.12       & 0.31       & 3.95       & 0.8448    \\\\\n",
       "\t July 2010  & 2010-07-05 & 4222       & 0.31018    & 0.57217    & 0.7655     & 0.3944     & 0.7429     & 1.03235    & 5.07       & ...        & 2364       & 0.35       & 2.99       & 0.57       & 1.80       & 0.69       & 4.09       & 0.31       & 3.95       & 0.8446    \\\\\n",
       "\t July 2010  & 2010-07-06 & 4276       & 0.30919    & 0.57050    & 0.7636     & 0.3941     & 0.7389     & 1.02956    & 5.05       & ...        & 2409       & 0.36       & 2.99       & 0.54       & 1.80       & 0.68       & 4.13       & 0.31       & 3.89       & 0.8419    \\\\\n",
       "\\end{tabular}\n"
      ],
      "text/markdown": [
       "\n",
       "| Month.of.Date | Date | ASX200 | X10.AED | X10.CNY | X10.000.IDR | X100.INR | X100.JPY | X1000.KRW | AU.10yr | ... | Shanghai | Singapore.1yr | Singapore.30yr | Swiss.1yr | Swiss.30yr | UK.1yr | UK.30yr | US.1yr | US.30yr | USD |\n",
       "|---|---|---|---|---|---|---|---|---|---|---|---|---|---|---|---|---|---|---|---|---|\n",
       "| July 2010  | 2010-07-01 | 4238       | 0.30724    | 0.56739    | 0.7609     | 0.3904     | 0.7390     | 1.02580    | 5.10       | ...        | 2374       | 0.35       | 2.98       | 0.49       | 1.81       | 0.71       | 4.12       | 0.31       | 3.90       | 0.8366     |\n",
       "| July 2010  | 2010-07-02 | 4239       | 0.31025    | 0.57224    | 0.7650     | 0.3943     | 0.7433     | 1.03387    | 5.12       | ...        | 2383       | 0.35       | 2.97       | 0.47       | 1.81       | 0.72       | 4.12       | 0.31       | 3.95       | 0.8448     |\n",
       "| July 2010  | 2010-07-03 | 4239       | 0.31025    | 0.57224    | 0.7650     | 0.3943     | 0.7433     | 1.03387    | 5.12       | ...        | 2383       | 0.35       | 2.97       | 0.47       | 1.81       | 0.72       | 4.12       | 0.31       | 3.95       | 0.8448     |\n",
       "| July 2010  | 2010-07-04 | 4239       | 0.31025    | 0.57224    | 0.7650     | 0.3943     | 0.7433     | 1.03387    | 5.12       | ...        | 2383       | 0.35       | 2.97       | 0.47       | 1.81       | 0.72       | 4.12       | 0.31       | 3.95       | 0.8448     |\n",
       "| July 2010  | 2010-07-05 | 4222       | 0.31018    | 0.57217    | 0.7655     | 0.3944     | 0.7429     | 1.03235    | 5.07       | ...        | 2364       | 0.35       | 2.99       | 0.57       | 1.80       | 0.69       | 4.09       | 0.31       | 3.95       | 0.8446     |\n",
       "| July 2010  | 2010-07-06 | 4276       | 0.30919    | 0.57050    | 0.7636     | 0.3941     | 0.7389     | 1.02956    | 5.05       | ...        | 2409       | 0.36       | 2.99       | 0.54       | 1.80       | 0.68       | 4.13       | 0.31       | 3.89       | 0.8419     |\n",
       "\n"
      ],
      "text/plain": [
       "  Month.of.Date Date       ASX200 X10.AED X10.CNY X10.000.IDR X100.INR X100.JPY\n",
       "1 July 2010     2010-07-01 4238   0.30724 0.56739 0.7609      0.3904   0.7390  \n",
       "2 July 2010     2010-07-02 4239   0.31025 0.57224 0.7650      0.3943   0.7433  \n",
       "3 July 2010     2010-07-03 4239   0.31025 0.57224 0.7650      0.3943   0.7433  \n",
       "4 July 2010     2010-07-04 4239   0.31025 0.57224 0.7650      0.3943   0.7433  \n",
       "5 July 2010     2010-07-05 4222   0.31018 0.57217 0.7655      0.3944   0.7429  \n",
       "6 July 2010     2010-07-06 4276   0.30919 0.57050 0.7636      0.3941   0.7389  \n",
       "  X1000.KRW AU.10yr ... Shanghai Singapore.1yr Singapore.30yr Swiss.1yr\n",
       "1 1.02580   5.10    ... 2374     0.35          2.98           0.49     \n",
       "2 1.03387   5.12    ... 2383     0.35          2.97           0.47     \n",
       "3 1.03387   5.12    ... 2383     0.35          2.97           0.47     \n",
       "4 1.03387   5.12    ... 2383     0.35          2.97           0.47     \n",
       "5 1.03235   5.07    ... 2364     0.35          2.99           0.57     \n",
       "6 1.02956   5.05    ... 2409     0.36          2.99           0.54     \n",
       "  Swiss.30yr UK.1yr UK.30yr US.1yr US.30yr USD   \n",
       "1 1.81       0.71   4.12    0.31   3.90    0.8366\n",
       "2 1.81       0.72   4.12    0.31   3.95    0.8448\n",
       "3 1.81       0.72   4.12    0.31   3.95    0.8448\n",
       "4 1.81       0.72   4.12    0.31   3.95    0.8448\n",
       "5 1.80       0.69   4.09    0.31   3.95    0.8446\n",
       "6 1.80       0.68   4.13    0.31   3.89    0.8419"
      ]
     },
     "metadata": {},
     "output_type": "display_data"
    },
    {
     "data": {
      "text/html": [
       "<ol class=list-inline>\n",
       "\t<li>'Month.of.Date'</li>\n",
       "\t<li>'Date'</li>\n",
       "\t<li>'ASX200'</li>\n",
       "\t<li>'X10.AED'</li>\n",
       "\t<li>'X10.CNY'</li>\n",
       "\t<li>'X10.000.IDR'</li>\n",
       "\t<li>'X100.INR'</li>\n",
       "\t<li>'X100.JPY'</li>\n",
       "\t<li>'X1000.KRW'</li>\n",
       "\t<li>'AU.10yr'</li>\n",
       "\t<li>'AU.1yr'</li>\n",
       "\t<li>'CAC40'</li>\n",
       "\t<li>'China.1yr'</li>\n",
       "\t<li>'China.30yr'</li>\n",
       "\t<li>'DAX'</li>\n",
       "\t<li>'Dow.Jones'</li>\n",
       "\t<li>'EUR'</li>\n",
       "\t<li>'FED.rate'</li>\n",
       "\t<li>'FTSE100'</li>\n",
       "\t<li>'GBP'</li>\n",
       "\t<li>'Germany.1yr'</li>\n",
       "\t<li>'Germany.30yr'</li>\n",
       "\t<li>'Hang.Seng'</li>\n",
       "\t<li>'Hong.Kong.10yr'</li>\n",
       "\t<li>'Hong.Kong.1yr'</li>\n",
       "\t<li>'Japan.1yr'</li>\n",
       "\t<li>'Japan.30yr'</li>\n",
       "\t<li>'Korea.1yr'</li>\n",
       "\t<li>'Korea.20yr'</li>\n",
       "\t<li>'NASDAQ'</li>\n",
       "\t<li>'Nikkei.225'</li>\n",
       "\t<li>'RBA.rate'</li>\n",
       "\t<li>'S.P500'</li>\n",
       "\t<li>'SGD'</li>\n",
       "\t<li>'Shanghai'</li>\n",
       "\t<li>'Singapore.1yr'</li>\n",
       "\t<li>'Singapore.30yr'</li>\n",
       "\t<li>'Swiss.1yr'</li>\n",
       "\t<li>'Swiss.30yr'</li>\n",
       "\t<li>'UK.1yr'</li>\n",
       "\t<li>'UK.30yr'</li>\n",
       "\t<li>'US.1yr'</li>\n",
       "\t<li>'US.30yr'</li>\n",
       "\t<li>'USD'</li>\n",
       "</ol>\n"
      ],
      "text/latex": [
       "\\begin{enumerate*}\n",
       "\\item 'Month.of.Date'\n",
       "\\item 'Date'\n",
       "\\item 'ASX200'\n",
       "\\item 'X10.AED'\n",
       "\\item 'X10.CNY'\n",
       "\\item 'X10.000.IDR'\n",
       "\\item 'X100.INR'\n",
       "\\item 'X100.JPY'\n",
       "\\item 'X1000.KRW'\n",
       "\\item 'AU.10yr'\n",
       "\\item 'AU.1yr'\n",
       "\\item 'CAC40'\n",
       "\\item 'China.1yr'\n",
       "\\item 'China.30yr'\n",
       "\\item 'DAX'\n",
       "\\item 'Dow.Jones'\n",
       "\\item 'EUR'\n",
       "\\item 'FED.rate'\n",
       "\\item 'FTSE100'\n",
       "\\item 'GBP'\n",
       "\\item 'Germany.1yr'\n",
       "\\item 'Germany.30yr'\n",
       "\\item 'Hang.Seng'\n",
       "\\item 'Hong.Kong.10yr'\n",
       "\\item 'Hong.Kong.1yr'\n",
       "\\item 'Japan.1yr'\n",
       "\\item 'Japan.30yr'\n",
       "\\item 'Korea.1yr'\n",
       "\\item 'Korea.20yr'\n",
       "\\item 'NASDAQ'\n",
       "\\item 'Nikkei.225'\n",
       "\\item 'RBA.rate'\n",
       "\\item 'S.P500'\n",
       "\\item 'SGD'\n",
       "\\item 'Shanghai'\n",
       "\\item 'Singapore.1yr'\n",
       "\\item 'Singapore.30yr'\n",
       "\\item 'Swiss.1yr'\n",
       "\\item 'Swiss.30yr'\n",
       "\\item 'UK.1yr'\n",
       "\\item 'UK.30yr'\n",
       "\\item 'US.1yr'\n",
       "\\item 'US.30yr'\n",
       "\\item 'USD'\n",
       "\\end{enumerate*}\n"
      ],
      "text/markdown": [
       "1. 'Month.of.Date'\n",
       "2. 'Date'\n",
       "3. 'ASX200'\n",
       "4. 'X10.AED'\n",
       "5. 'X10.CNY'\n",
       "6. 'X10.000.IDR'\n",
       "7. 'X100.INR'\n",
       "8. 'X100.JPY'\n",
       "9. 'X1000.KRW'\n",
       "10. 'AU.10yr'\n",
       "11. 'AU.1yr'\n",
       "12. 'CAC40'\n",
       "13. 'China.1yr'\n",
       "14. 'China.30yr'\n",
       "15. 'DAX'\n",
       "16. 'Dow.Jones'\n",
       "17. 'EUR'\n",
       "18. 'FED.rate'\n",
       "19. 'FTSE100'\n",
       "20. 'GBP'\n",
       "21. 'Germany.1yr'\n",
       "22. 'Germany.30yr'\n",
       "23. 'Hang.Seng'\n",
       "24. 'Hong.Kong.10yr'\n",
       "25. 'Hong.Kong.1yr'\n",
       "26. 'Japan.1yr'\n",
       "27. 'Japan.30yr'\n",
       "28. 'Korea.1yr'\n",
       "29. 'Korea.20yr'\n",
       "30. 'NASDAQ'\n",
       "31. 'Nikkei.225'\n",
       "32. 'RBA.rate'\n",
       "33. 'S.P500'\n",
       "34. 'SGD'\n",
       "35. 'Shanghai'\n",
       "36. 'Singapore.1yr'\n",
       "37. 'Singapore.30yr'\n",
       "38. 'Swiss.1yr'\n",
       "39. 'Swiss.30yr'\n",
       "40. 'UK.1yr'\n",
       "41. 'UK.30yr'\n",
       "42. 'US.1yr'\n",
       "43. 'US.30yr'\n",
       "44. 'USD'\n",
       "\n",
       "\n"
      ],
      "text/plain": [
       " [1] \"Month.of.Date\"  \"Date\"           \"ASX200\"         \"X10.AED\"       \n",
       " [5] \"X10.CNY\"        \"X10.000.IDR\"    \"X100.INR\"       \"X100.JPY\"      \n",
       " [9] \"X1000.KRW\"      \"AU.10yr\"        \"AU.1yr\"         \"CAC40\"         \n",
       "[13] \"China.1yr\"      \"China.30yr\"     \"DAX\"            \"Dow.Jones\"     \n",
       "[17] \"EUR\"            \"FED.rate\"       \"FTSE100\"        \"GBP\"           \n",
       "[21] \"Germany.1yr\"    \"Germany.30yr\"   \"Hang.Seng\"      \"Hong.Kong.10yr\"\n",
       "[25] \"Hong.Kong.1yr\"  \"Japan.1yr\"      \"Japan.30yr\"     \"Korea.1yr\"     \n",
       "[29] \"Korea.20yr\"     \"NASDAQ\"         \"Nikkei.225\"     \"RBA.rate\"      \n",
       "[33] \"S.P500\"         \"SGD\"            \"Shanghai\"       \"Singapore.1yr\" \n",
       "[37] \"Singapore.30yr\" \"Swiss.1yr\"      \"Swiss.30yr\"     \"UK.1yr\"        \n",
       "[41] \"UK.30yr\"        \"US.1yr\"         \"US.30yr\"        \"USD\"           "
      ]
     },
     "metadata": {},
     "output_type": "display_data"
    }
   ],
   "source": [
    "# Import the data and look at the first six rows\n",
    "ASX200_data <- read.csv(file = 'C:/Users/humay/Downloads/ASX200.csv')\n",
    "ASX200_data$Date <- as.Date(ASX200_data$Date, format = \"%m/%d/%Y\")\n",
    "head(ASX200_data)\n",
    "colnames(ASX200_data)"
   ]
  },
  {
   "cell_type": "code",
   "execution_count": 23,
   "id": "9fd8e77a",
   "metadata": {},
   "outputs": [
    {
     "data": {
      "image/png": "[encoded data removed]",
      "text/plain": [
       "plot without title"
      ]
     },
     "metadata": {},
     "output_type": "display_data"
    }
   ],
   "source": [
    "q <-ggplot(ASX200_data,aes(x = Date, y = ASX200,color=ASX200)) + \n",
    "         geom_line() +\n",
    "         labs(x = \"Year\", y = \"ASX200\")\n",
    "q"
   ]
  },
  {
   "cell_type": "code",
   "execution_count": 24,
   "id": "06f6b7f9",
   "metadata": {},
   "outputs": [],
   "source": [
    "#ARIMA modeling boils down to five parts:\n",
    "#1.Visualize the time series\n",
    "#2.Stationarize the time series\n",
    "#3.Plot ACF/PACF and find optimal parameters\n",
    "#4.Build the ARIMA model\n",
    "#5.Make predictions."
   ]
  },
  {
   "cell_type": "markdown",
   "id": "722d6735",
   "metadata": {},
   "source": [
    "## Stationarize the Time Series"
   ]
  },
  {
   "cell_type": "code",
   "execution_count": 25,
   "id": "7dee37df",
   "metadata": {},
   "outputs": [
    {
     "name": "stderr",
     "output_type": "stream",
     "text": [
      "Warning message:\n",
      "\"package 'tseries' was built under R version 3.6.3\"Warning message in adf.test(ASX200_data$ASX200, alternative = \"stationary\", k = 0):\n",
      "\"p-value smaller than printed p-value\""
     ]
    },
    {
     "data": {
      "text/plain": [
       "\n",
       "\tAugmented Dickey-Fuller Test\n",
       "\n",
       "data:  ASX200_data$ASX200\n",
       "Dickey-Fuller = -8.5171, Lag order = 0, p-value = 0.01\n",
       "alternative hypothesis: stationary\n"
      ]
     },
     "metadata": {},
     "output_type": "display_data"
    }
   ],
   "source": [
    "library(tseries)\n",
    "adf.test(ASX200_data$ASX200, alternative=\"stationary\", k=0)"
   ]
  },
  {
   "cell_type": "markdown",
   "id": "7083013e",
   "metadata": {},
   "source": [
    "## ACF/PACF"
   ]
  },
  {
   "cell_type": "code",
   "execution_count": 13,
   "id": "abea40fe",
   "metadata": {},
   "outputs": [
    {
     "data": {
      "image/png": "[encoded data removed]",
      "text/plain": [
       "Plot with title \"Series  ASX200_data$ASX200\""
      ]
     },
     "metadata": {},
     "output_type": "display_data"
    },
    {
     "data": {
      "image/png": "[encoded data removed]",
      "text/plain": [
       "Plot with title \"Series  ASX200_data$ASX200\""
      ]
     },
     "metadata": {},
     "output_type": "display_data"
    }
   ],
   "source": [
    "acf(ASX200_data$ASX200, lag.max=100)\n",
    "pacf(ASX200_data$ASX200, lag.max=100)"
   ]
  },
  {
   "cell_type": "markdown",
   "id": "2aed1b69",
   "metadata": {},
   "source": [
    "## Build the ARIMA Model"
   ]
  },
  {
   "cell_type": "code",
   "execution_count": 26,
   "id": "a96dcba5",
   "metadata": {},
   "outputs": [
    {
     "name": "stderr",
     "output_type": "stream",
     "text": [
      "Warning message:\n",
      "\"package 'forecast' was built under R version 3.6.3\""
     ]
    }
   ],
   "source": [
    "library(forecast)"
   ]
  },
  {
   "cell_type": "markdown",
   "id": "8f0d5999",
   "metadata": {},
   "source": [
    "### ARIMA Model 1"
   ]
  },
  {
   "cell_type": "code",
   "execution_count": 37,
   "id": "3a8598da",
   "metadata": {
    "scrolled": true
   },
   "outputs": [
    {
     "data": {
      "text/plain": [
       "\n",
       "Call:\n",
       "arima(x = ASX200_data$ASX200, order = c(1, 0, 1))\n",
       "\n",
       "Coefficients:\n",
       "         ar1      ma1  intercept\n",
       "      0.9767  -0.1341  5359.0752\n",
       "s.e.  0.0037   0.0172   106.7763\n",
       "\n",
       "sigma^2 estimated as 30742:  log likelihood = -24058.71,  aic = 48125.42"
      ]
     },
     "metadata": {},
     "output_type": "display_data"
    }
   ],
   "source": [
    "(fit1 <- arima(ASX200_data$ASX200, c(1, 0, 1)))"
   ]
  },
  {
   "cell_type": "markdown",
   "id": "5c8cb9e0",
   "metadata": {},
   "source": [
    "### ARIMA Model 2"
   ]
  },
  {
   "cell_type": "code",
   "execution_count": 38,
   "id": "e84fb112",
   "metadata": {},
   "outputs": [
    {
     "data": {
      "text/plain": [
       "\n",
       "Call:\n",
       "arima(x = ASX200_data$ASX200, order = c(2, 0, 1))\n",
       "\n",
       "Coefficients:\n",
       "         ar1      ar2      ma1  intercept\n",
       "      1.8678  -0.8679  -0.9806   5361.197\n",
       "s.e.  0.0105   0.0105   0.0042    413.592\n",
       "\n",
       "sigma^2 estimated as 30175:  log likelihood = -24025.05,  aic = 48060.09"
      ]
     },
     "metadata": {},
     "output_type": "display_data"
    }
   ],
   "source": [
    "(fit2 <- arima(ASX200_data$ASX200, c(2, 0, 1)))"
   ]
  },
  {
   "cell_type": "markdown",
   "id": "daddf9c7",
   "metadata": {},
   "source": [
    "### Auto Arima"
   ]
  },
  {
   "cell_type": "code",
   "execution_count": 39,
   "id": "00bef1e2",
   "metadata": {},
   "outputs": [
    {
     "name": "stdout",
     "output_type": "stream",
     "text": [
      "\n",
      " Fitting models using approximations to speed things up...\n",
      "\n",
      " ARIMA(2,1,2) with drift         : 48014.78\n",
      " ARIMA(0,1,0) with drift         : 48212.27\n",
      " ARIMA(1,1,0) with drift         : 48144.66\n",
      " ARIMA(0,1,1) with drift         : 48138.93\n",
      " ARIMA(0,1,0)                    : 48210.28\n",
      " ARIMA(1,1,2) with drift         : 48012.96\n",
      " ARIMA(0,1,2) with drift         : 48138.2\n",
      " ARIMA(1,1,1) with drift         : 48033.84\n",
      " ARIMA(1,1,3) with drift         : 48012.65\n",
      " ARIMA(0,1,3) with drift         : 48136.87\n",
      " ARIMA(2,1,3) with drift         : Inf\n",
      " ARIMA(1,1,4) with drift         : 48011.53\n",
      " ARIMA(0,1,4) with drift         : 48116.74\n",
      " ARIMA(2,1,4) with drift         : 48014.59\n",
      " ARIMA(1,1,5) with drift         : 48012.54\n",
      " ARIMA(0,1,5) with drift         : 48107.07\n",
      " ARIMA(2,1,5) with drift         : Inf\n",
      " ARIMA(1,1,4)                    : 48009.72\n",
      " ARIMA(0,1,4)                    : 48114.75\n",
      " ARIMA(1,1,3)                    : 48010.85\n",
      " ARIMA(2,1,4)                    : 48012.19\n",
      " ARIMA(1,1,5)                    : 48010.73\n",
      " ARIMA(0,1,3)                    : 48134.87\n",
      " ARIMA(0,1,5)                    : 48105.07\n",
      " ARIMA(2,1,3)                    : Inf\n",
      " ARIMA(2,1,5)                    : Inf\n",
      "\n",
      " Now re-fitting the best model(s) without approximations...\n",
      "\n",
      " ARIMA(1,1,4)                    : 48019.27\n",
      "\n",
      " Best model: ARIMA(1,1,4)                    \n",
      "\n"
     ]
    }
   ],
   "source": [
    "fit3 <- auto.arima(ASX200_data$ASX200, trace=TRUE)"
   ]
  },
  {
   "cell_type": "code",
   "execution_count": 45,
   "id": "244c842e",
   "metadata": {},
   "outputs": [
    {
     "data": {
      "text/plain": [
       "\n",
       "Call:\n",
       "arima(x = ASX200_data$ASX200, order = c(1, 1, 4))\n",
       "\n",
       "Coefficients:\n",
       "         ar1      ma1     ma2      ma3      ma4\n",
       "      0.8769  -1.0570  0.1074  -0.0010  -0.0325\n",
       "s.e.  0.0142   0.0218  0.0244   0.0241   0.0183\n",
       "\n",
       "sigma^2 estimated as 29952:  log likelihood = -24003.62,  aic = 48019.24"
      ]
     },
     "metadata": {},
     "output_type": "display_data"
    }
   ],
   "source": [
    "(fit4 <- arima(ASX200_data$ASX200, c(1, 1, 4)))"
   ]
  },
  {
   "cell_type": "code",
   "execution_count": 50,
   "id": "1a7f66e8",
   "metadata": {},
   "outputs": [
    {
     "data": {
      "image/png": "[encoded data removed]",
      "text/plain": [
       "plot without title"
      ]
     },
     "metadata": {},
     "output_type": "display_data"
    }
   ],
   "source": [
    "plot(as.ts(ASX200_data$ASX200) )\n",
    "lines(fitted(fit4), col=\"red\")"
   ]
  },
  {
   "cell_type": "markdown",
   "id": "3a4d1aa6",
   "metadata": {},
   "source": [
    "### Model Evaluation"
   ]
  },
  {
   "cell_type": "markdown",
   "id": "3fa4b1d0",
   "metadata": {},
   "source": [
    "| Model        | AIC criterion |\n",
    "| ------------ | ------------- |\n",
    "| ARIMA(1,0,1) | 48125.42      |\n",
    "| ARIMA(2,0,1) | 48060.09      |\n",
    "| ARIMA(1,1,4) | 48019.24      |\n"
   ]
  },
  {
   "cell_type": "markdown",
   "id": "44803b2f",
   "metadata": {},
   "source": [
    "## Make Predictions"
   ]
  },
  {
   "cell_type": "code",
   "execution_count": 59,
   "id": "6b21ce2b",
   "metadata": {},
   "outputs": [
    {
     "data": {
      "image/png": "[encoded data removed]",
      "text/plain": [
       "Plot with title \"Forecasts from ARIMA(1,1,4)\""
      ]
     },
     "metadata": {},
     "output_type": "display_data"
    }
   ],
   "source": [
    "futurVal <- forecast(fit2,h=50, level=c(99)) #confidence level 99%\n",
    "plot(forecast(futurVal))"
   ]
  },
  {
   "cell_type": "code",
   "execution_count": null,
   "id": "bed6b179",
   "metadata": {},
   "outputs": [],
   "source": []
  }
 ],
 "metadata": {
  "kernelspec": {
   "display_name": "R",
   "language": "R",
   "name": "ir"
  },
  "language_info": {
   "codemirror_mode": "r",
   "file_extension": ".r",
   "mimetype": "text/x-r-source",
   "name": "R",
   "pygments_lexer": "r",
   "version": "3.6.1"
  }
 },
 "nbformat": 4,
 "nbformat_minor": 5
}
